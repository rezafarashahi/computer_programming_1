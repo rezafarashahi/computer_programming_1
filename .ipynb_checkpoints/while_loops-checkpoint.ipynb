{
 "cells": [
  {
   "cell_type": "code",
   "execution_count": 1,
   "id": "4fb0f12b-6ad1-47b4-9eeb-1a5c092c7653",
   "metadata": {},
   "outputs": [
    {
     "name": "stdout",
     "output_type": "stream",
     "text": [
      "Hello world\n"
     ]
    }
   ],
   "source": [
    "print(\"Hello world\")"
   ]
  },
  {
   "cell_type": "markdown",
   "id": "9702d37a-5fe6-4b23-8ff9-d05b102929ee",
   "metadata": {},
   "source": [
    "#while loops\n",
    "\n",
    "What is a while loop?\n",
    "\n",
    "A while loop is used to execute a block of code repeatedly as long as a given condition is True. Unlike a for loop (which runs a specific number of times), a while loop depends on a condition and can run indefinitely if not properly controlled \n",
    "\n",
    "\n",
    "Write a code with a while loop that goes through a sentence's letters one by one. When it finds letter \"a\" it stops and print the whole sentence without \"a\"."
   ]
  },
  {
   "cell_type": "code",
   "execution_count": null,
   "id": "bf7c3398-50b8-4a8d-be05-f1e00fea6180",
   "metadata": {},
   "outputs": [],
   "source": [
    "\n",
    "count = 1\n",
    "\n",
    "while count <= 5:\n",
    "    print(f'Count: {count}')\n",
    "    count = count + 1"
   ]
  },
  {
   "cell_type": "code",
   "execution_count": 9,
   "id": "0579e773-2c96-4123-b08e-bbcdb149434b",
   "metadata": {},
   "outputs": [
    {
     "name": "stdout",
     "output_type": "stream",
     "text": [
      "I\n",
      " \n",
      "l\n",
      "Hello\n"
     ]
    }
   ],
   "source": [
    "sentence = \"I love pizza\"\n",
    "\n",
    "counter = 0\n",
    "\n",
    "while sentence[counter] != 'o':\n",
    "    print(sentence[counter])\n",
    "    counter = counter + 1\n",
    "    \n",
    "    \n",
    "print(\"Hello\")\n"
   ]
  },
  {
   "cell_type": "code",
   "execution_count": 17,
   "id": "471eb3f0-1d7e-433f-949e-c4cee7dd707d",
   "metadata": {},
   "outputs": [
    {
     "name": "stdout",
     "output_type": "stream",
     "text": [
      "2345\n",
      "2 4 6\n"
     ]
    }
   ],
   "source": [
    "string = \"123456789\"\n",
    "print(string[1:5])\n",
    "print(string[1], string[3], string[5])\n"
   ]
  }
 ],
 "metadata": {
  "kernelspec": {
   "display_name": "Python 3",
   "language": "python",
   "name": "python3"
  },
  "language_info": {
   "codemirror_mode": {
    "name": "ipython",
    "version": 3
   },
   "file_extension": ".py",
   "mimetype": "text/x-python",
   "name": "python",
   "nbconvert_exporter": "python",
   "pygments_lexer": "ipython3",
   "version": "3.9.18"
  }
 },
 "nbformat": 4,
 "nbformat_minor": 5
}
