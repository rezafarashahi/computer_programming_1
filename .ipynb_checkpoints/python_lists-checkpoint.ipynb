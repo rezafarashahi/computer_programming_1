{
 "cells": [
  {
   "cell_type": "markdown",
   "id": "557f8b3d-07ad-4b77-bb1d-d36ccb1e0df0",
   "metadata": {},
   "source": [
    "### What is a List?\n",
    "A **list** is a data structure in Python that allows you to store multiple items in a single variable. Lists are **ordered**, **mutable** (modifiable), and can contain elements of **different data types**.\n",
    "\n",
    "### How to Create a List\n",
    "You can create a list using square brackets `[]`, with items separated by commas `,`.\n"
   ]
  },
  {
   "cell_type": "code",
   "execution_count": 2,
   "id": "0630d4c8-b74e-4d94-959b-2639ae9f23f5",
   "metadata": {},
   "outputs": [
    {
     "name": "stdout",
     "output_type": "stream",
     "text": [
      "[1, 2, 3, 4, 5]\n"
     ]
    }
   ],
   "source": [
    "# Creating a list\n",
    "my_list = [1, 2, 3, 4, 5]\n",
    "print(my_list)"
   ]
  },
  {
   "cell_type": "markdown",
   "id": "63dd2e00-a5e8-4756-80eb-7f9119e540a9",
   "metadata": {},
   "source": [
    "You can also have a list with different data types:"
   ]
  },
  {
   "cell_type": "code",
   "execution_count": null,
   "id": "fd2b2754-6407-4896-a815-9b8d2783ace1",
   "metadata": {},
   "outputs": [],
   "source": [
    "mixed_list = [1, \"hello\", 3.14, True]\n",
    "print(mixed_list)"
   ]
  },
  {
   "cell_type": "markdown",
   "id": "41740ba1-f1a1-4347-b0ed-44653587e9f5",
   "metadata": {},
   "source": [
    "### Accessing Elements in a List\n",
    "You can access elements using their **index** (starting from 0)."
   ]
  },
  {
   "cell_type": "code",
   "execution_count": null,
   "id": "e33ed41a-f521-4a38-b4c1-dec8fe297ce7",
   "metadata": {},
   "outputs": [],
   "source": [
    "fruits = [\"apple\", \"banana\", \"cherry\"]\n",
    "print(fruits[0])  # First element (apple)\n",
    "print(fruits[1])  # Second element (banana)\n",
    "print(fruits[2])  # Third element (cherry)"
   ]
  },
  {
   "cell_type": "markdown",
   "id": "e40dafa2-8bf3-4749-a2f4-e2bc471474ab",
   "metadata": {},
   "source": [
    "#### Negative Indexing\n",
    "You can also use negative indexing to access elements from the last."
   ]
  },
  {
   "cell_type": "code",
   "execution_count": null,
   "id": "20a0bfbf-c4bc-4ebc-a343-827be4fd2b6a",
   "metadata": {},
   "outputs": [],
   "source": [
    "print(fruits[-1])  # Last element (cherry)\n",
    "print(fruits[-2])  # Second last element (banana)"
   ]
  },
  {
   "cell_type": "markdown",
   "id": "40e8ad41-57be-43ef-8035-f1544ce4760c",
   "metadata": {},
   "source": [
    "### Modifying a List\n",
    "Since lists are **mutable**, you can change an element at a specific index:"
   ]
  },
  {
   "cell_type": "code",
   "execution_count": 3,
   "id": "89b63d31-e739-4939-8638-2a4a7ce8e9a0",
   "metadata": {},
   "outputs": [
    {
     "name": "stdout",
     "output_type": "stream",
     "text": [
      "[1, 10, 3, 4]\n"
     ]
    }
   ],
   "source": [
    "numbers = [1, 2, 3, 4]\n",
    "numbers[1] = 10  # Changing second element (index 1)\n",
    "print(numbers)"
   ]
  },
  {
   "cell_type": "markdown",
   "id": "c80b30cf-4f37-40e0-bc80-ba530d52bf3e",
   "metadata": {},
   "source": [
    "### Adding Items to a List\n",
    "- **Appending an item** (adds item at the end):"
   ]
  },
  {
   "cell_type": "code",
   "execution_count": null,
   "id": "f725b76c-e37f-439b-935c-5d76f8496c61",
   "metadata": {},
   "outputs": [],
   "source": [
    "  my_list = [1, 2, 3]\n",
    "  my_list.append(4)\n",
    "  print(my_list)"
   ]
  },
  {
   "cell_type": "markdown",
   "id": "11049b25-e69c-4ad3-9b22-b95bdf407082",
   "metadata": {},
   "source": [
    "- **Inserting an item at a specific position**:"
   ]
  },
  {
   "cell_type": "code",
   "execution_count": null,
   "id": "8c96b017-d8ea-4dbb-85bb-17560b3c65e0",
   "metadata": {},
   "outputs": [],
   "source": [
    "  my_list.insert(1, \"hello\")  # Inserts \"hello\" at index 1\n",
    "  print(my_list)"
   ]
  },
  {
   "cell_type": "markdown",
   "id": "677adc3d-f695-4c5b-ae19-f4867b2eab65",
   "metadata": {},
   "source": [
    "### Removing Items from a List\n",
    "- **Using `remove()`** (removes the first occurrence of an element):"
   ]
  },
  {
   "cell_type": "code",
   "execution_count": null,
   "id": "1e46f939-f213-41f5-b0b2-db46a8f266fd",
   "metadata": {},
   "outputs": [],
   "source": [
    "  my_list.remove(\"hello\")\n",
    "  print(my_list)"
   ]
  },
  {
   "cell_type": "markdown",
   "id": "9f562108-223c-4f0a-9643-533bca5c8bb3",
   "metadata": {},
   "source": [
    "- **Using `pop()`** (removes an element by index, default is the last item):"
   ]
  },
  {
   "cell_type": "code",
   "execution_count": null,
   "id": "01b2c7d0-81a3-44aa-a894-d13c74a2228c",
   "metadata": {},
   "outputs": [],
   "source": [
    "  my_list.pop()  # Removes last item\n",
    "  print(my_list)"
   ]
  },
  {
   "cell_type": "markdown",
   "id": "f54ba4b3-509b-46d9-b357-9563bc98346f",
   "metadata": {},
   "source": [
    "### List Slicing\n",
    "Slicing allows you to access a range of elements:"
   ]
  },
  {
   "cell_type": "code",
   "execution_count": null,
   "id": "cad12b09-ca78-4b57-8460-6c3bbc195dd3",
   "metadata": {},
   "outputs": [],
   "source": [
    "numbers = [0, 1, 2, 3, 4, 5]\n",
    "print(numbers[1:4])  # Gets elements from index 1 to 3 (excluding 4)\n",
    "print(numbers[:3])   # Gets first 3 elements\n",
    "print(numbers[3:])   # Gets elements from index 3 to end"
   ]
  },
  {
   "cell_type": "markdown",
   "id": "2e1c94db-af22-4323-88ea-75a900543062",
   "metadata": {},
   "source": [
    "### Iterating Over a List\n",
    "You can loop through the list using a **for loop**:"
   ]
  },
  {
   "cell_type": "code",
   "execution_count": null,
   "id": "5a62a4cc-fa64-49be-af5e-447c5bb1cf7e",
   "metadata": {},
   "outputs": [],
   "source": [
    "fruits = [\"apple\", \"banana\", \"cherry\"]\n",
    "for fruit in fruits:\n",
    "    print(fruit)"
   ]
  },
  {
   "cell_type": "markdown",
   "id": "d2e9c895-b38b-45e7-91e2-8132856b4475",
   "metadata": {},
   "source": [
    "### Checking if an Element Exists\n",
    "You can check if an item is in the list using `in`:"
   ]
  },
  {
   "cell_type": "code",
   "execution_count": null,
   "id": "1a96018e-2e14-41b4-bb12-2e326b449e8c",
   "metadata": {},
   "outputs": [],
   "source": [
    "fruits = [\"apple\", \"banana\", \"cherry\"]\n",
    "print(\"apple\" in fruits)  # True\n",
    "print(\"grape\" in fruits)  # False"
   ]
  },
  {
   "cell_type": "markdown",
   "id": "1b3707fc-0c4b-4c73-bd98-6fba30702b82",
   "metadata": {},
   "source": [
    "### List Length\n",
    "Use `len()` to get the number of elements in a list:"
   ]
  },
  {
   "cell_type": "code",
   "execution_count": null,
   "id": "2dd9e39c-2bca-4beb-a0bd-73d5317de940",
   "metadata": {},
   "outputs": [],
   "source": [
    "numbers = [1, 2, 3, 4, 5]\n",
    "print(len(numbers))  # Output: 5"
   ]
  },
  {
   "cell_type": "markdown",
   "id": "7c1fd1c0-94d2-4195-b446-a62d0fda4b94",
   "metadata": {},
   "source": [
    "### Sorting a List\n",
    "You can sort a list using `sort()`:"
   ]
  },
  {
   "cell_type": "code",
   "execution_count": null,
   "id": "6da0681c-1437-423e-a1a2-2324e0bb436f",
   "metadata": {},
   "outputs": [],
   "source": [
    "numbers = [3, 1, 4, 1, 5, 9]\n",
    "numbers.sort()\n",
    "print(numbers)"
   ]
  },
  {
   "cell_type": "markdown",
   "id": "6e28eaaa-773c-405a-b6e0-ac3678459587",
   "metadata": {},
   "source": [
    "### Summary\n",
    "- Lists store multiple items.\n",
    "- They allow different data types.\n",
    "- Elements can be accessed using **indexing**.\n",
    "- Lists are **mutable** (can be modified).\n",
    "- You can **add**, **remove**, **sort**, **slice**, and **iterate** over lists."
   ]
  }
 ],
 "metadata": {
  "kernelspec": {
   "display_name": "Python 3",
   "language": "python",
   "name": "python3"
  },
  "language_info": {
   "codemirror_mode": {
    "name": "ipython",
    "version": 3
   },
   "file_extension": ".py",
   "mimetype": "text/x-python",
   "name": "python",
   "nbconvert_exporter": "python",
   "pygments_lexer": "ipython3",
   "version": "3.9.18"
  }
 },
 "nbformat": 4,
 "nbformat_minor": 5
}
