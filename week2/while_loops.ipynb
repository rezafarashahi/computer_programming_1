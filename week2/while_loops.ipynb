{
 "cells": [
  {
   "cell_type": "code",
   "execution_count": 1,
   "id": "4fb0f12b-6ad1-47b4-9eeb-1a5c092c7653",
   "metadata": {},
   "outputs": [
    {
     "name": "stdout",
     "output_type": "stream",
     "text": [
      "Hello world\n"
     ]
    }
   ],
   "source": [
    "print(\"Hello world\")"
   ]
  },
  {
   "cell_type": "markdown",
   "id": "9702d37a-5fe6-4b23-8ff9-d05b102929ee",
   "metadata": {},
   "source": [
    "   - **What is a `while` loop?**\n",
    "     - A `while` loop is used to execute a block of code repeatedly as long as a given condition is `True`. Unlike a `for` loop (which runs a specific number of times), a `while` loop depends on a condition **and can run indefinitely if not properly controlled**."
   ]
  },
  {
   "cell_type": "code",
   "execution_count": null,
   "id": "bf7c3398-50b8-4a8d-be05-f1e00fea6180",
   "metadata": {},
   "outputs": [],
   "source": [
    "\n",
    "count = 1\n",
    "\n",
    "while count <= 5:\n",
    "    print(f'Count: {count}')\n",
    "    count = count + 1"
   ]
  },
  {
   "cell_type": "markdown",
   "id": "d167692a-6dfe-4027-b3fc-b25708d49e73",
   "metadata": {},
   "source": [
    "   - **Key Concepts:**\n",
    "     - The loop **continues running** as long as the condition is `True`.\n",
    "     - Always ensure that something inside the loop **modifies the condition** to **eventually become False**, or you'll have an **infinite loop**!"
   ]
  },
  {
   "cell_type": "code",
   "execution_count": 9,
   "id": "0579e773-2c96-4123-b08e-bbcdb149434b",
   "metadata": {},
   "outputs": [
    {
     "name": "stdout",
     "output_type": "stream",
     "text": [
      "I\n",
      " \n",
      "l\n",
      "Hello\n"
     ]
    }
   ],
   "source": [
    "sentence = \"I love pizza\"\n",
    "\n",
    "counter = 0\n",
    "\n",
    "while sentence[counter] != 'o':\n",
    "    print(sentence[counter])\n",
    "    counter = counter + 1\n",
    "    \n",
    "    \n",
    "print(\"Hello\")\n"
   ]
  },
  {
   "cell_type": "code",
   "execution_count": 17,
   "id": "471eb3f0-1d7e-433f-949e-c4cee7dd707d",
   "metadata": {},
   "outputs": [
    {
     "name": "stdout",
     "output_type": "stream",
     "text": [
      "2345\n",
      "2 4 6\n"
     ]
    }
   ],
   "source": [
    "string = \"123456789\"\n",
    "print(string[1:5])\n",
    "print(string[1], string[3], string[5])\n"
   ]
  },
  {
   "cell_type": "markdown",
   "id": "821aac96-0dbd-49e3-9c3c-ecbd67cb63b6",
   "metadata": {},
   "source": [
    "### ** Breaking & Continuing Loops**\n",
    "   - **Using `break` to stop the loop early**\n",
    "     - **`break`** is used to exit the loop when a certain condition is met."
   ]
  },
  {
   "cell_type": "code",
   "execution_count": 18,
   "id": "c06b8436-58ea-4f45-a3ef-a4ded5c9e73f",
   "metadata": {},
   "outputs": [
    {
     "name": "stdout",
     "output_type": "stream",
     "text": [
      "1\n",
      "2\n",
      "3\n",
      "4\n",
      "Stopping at 5!\n"
     ]
    }
   ],
   "source": [
    "     num = 1\n",
    "     while num <= 10:\n",
    "         if num == 5:\n",
    "             print(\"Stopping at 5!\")\n",
    "             break  # Stops loop immediately\n",
    "         print(num)\n",
    "         #num += 1\n",
    "         num = num + 1"
   ]
  },
  {
   "cell_type": "markdown",
   "id": "e8ccb930-0f26-4b79-aa7d-f71a4e1f6cc8",
   "metadata": {},
   "source": [
    "   - **Using `continue` to skip an iteration**\n",
    "     - **`continue`** skips the current iteration and **moves to the next one**.\n",
    "     - Example: Skipping even numbers"
   ]
  },
  {
   "cell_type": "code",
   "execution_count": 19,
   "id": "700a3525-185a-459e-84f0-6eb38ea14fbe",
   "metadata": {},
   "outputs": [
    {
     "name": "stdout",
     "output_type": "stream",
     "text": [
      "1\n",
      "3\n",
      "5\n",
      "7\n",
      "9\n"
     ]
    }
   ],
   "source": [
    "     num = 0\n",
    "     while num < 10:\n",
    "         num += 1\n",
    "         if num % 2 == 0:\n",
    "             continue  # Skips even numbers\n",
    "         print(num)"
   ]
  },
  {
   "cell_type": "markdown",
   "id": "7808233e-1647-4170-bf05-2d48bfe04090",
   "metadata": {},
   "source": [
    "## Example\n",
    "write a code that gets an integer value and prints the odd numbers between 0 and the number entered by the user."
   ]
  }
 ],
 "metadata": {
  "kernelspec": {
   "display_name": "Python 3",
   "language": "python",
   "name": "python3"
  },
  "language_info": {
   "codemirror_mode": {
    "name": "ipython",
    "version": 3
   },
   "file_extension": ".py",
   "mimetype": "text/x-python",
   "name": "python",
   "nbconvert_exporter": "python",
   "pygments_lexer": "ipython3",
   "version": "3.9.18"
  }
 },
 "nbformat": 4,
 "nbformat_minor": 5
}
