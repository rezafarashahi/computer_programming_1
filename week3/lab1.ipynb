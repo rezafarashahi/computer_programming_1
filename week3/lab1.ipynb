{
 "cells": [
  {
   "cell_type": "markdown",
   "id": "4c8e8bd6",
   "metadata": {},
   "source": [
    "# Python Type Conversion Lab\n",
    "\n",
    "## Introduction\n",
    "This lab will help you understand type conversion in Python, which is the process of converting values from one data type to another (like strings to numbers, integers to floating-point values, etc.).\n",
    "\n",
    "## Topics Covered\n",
    "- Input and type conversion basics\n",
    "- Implicit vs Explicit type conversion\n",
    "- Common conversion functions: `int()`, `float()`, `str()`\n",
    "- Mixed-mode arithmetic and type conversions\n",
    "- Checking data types with `type()`\n",
    "\n",
    "## Exercise 1: Input and Basic Type Conversion"
   ]
  },
  {
   "cell_type": "code",
   "execution_count": null,
   "id": "f7c2c7e3",
   "metadata": {},
   "outputs": [],
   "source": [
    "# The input() function always returns a string\n",
    "value = input(\"Enter a value: \")\n",
    "print(\"The value you entered is:\", value)\n",
    "print(\"Its type is:\", type(value))\n",
    "\n",
    "# Converting string to integer (only works if the string contains a valid number)\n",
    "num_value = int(value)  # Note: This will cause an error if value isn't a valid integer\n",
    "print(\"After conversion to integer:\", num_value)\n",
    "print(\"Its type is now:\", type(num_value))"
   ]
  },
  {
   "cell_type": "markdown",
   "id": "f25e09d4",
   "metadata": {},
   "source": [
    "## Exercise 2: Price Calculator"
   ]
  },
  {
   "cell_type": "code",
   "execution_count": null,
   "id": "4db4a9a8",
   "metadata": {},
   "outputs": [],
   "source": [
    "# Let's recreate the example from the slides\n",
    "price = input(\"Enter the price ($): \")\n",
    "tax = input(\"Enter the tax rate (%): \")\n",
    "\n",
    "# Convert strings to numbers\n",
    "price = float(price)\n",
    "tax = float(tax)\n",
    "\n",
    "# Calculate net price\n",
    "net_price = price + (price * tax / 100)\n",
    "\n",
    "print(\"The net price is $\", net_price)"
   ]
  },
  {
   "cell_type": "markdown",
   "id": "30c8b0dd",
   "metadata": {},
   "source": [
    "## Exercise 3: Different Type Conversion Functions"
   ]
  },
  {
   "cell_type": "code",
   "execution_count": null,
   "id": "406c0f73",
   "metadata": {},
   "outputs": [],
   "source": [
    "# Testing int() function\n",
    "print(\"int('123') =\", int('123'))\n",
    "print(\"int(12.7) =\", int(12.7))  # Note: truncates, doesn't round\n",
    "\n",
    "# Testing float() function\n",
    "print(\"float('12.5') =\", float('12.5'))\n",
    "print(\"float(45) =\", float(45))\n",
    "\n",
    "# Testing str() function\n",
    "print(\"str(99) =\", str(99))\n",
    "print(\"str(3.14) =\", str(3.14))\n",
    "print(\"str(True) =\", str(True))"
   ]
  },
  {
   "cell_type": "markdown",
   "id": "56df66dd",
   "metadata": {},
   "source": [
    "## Exercise 4: Implicit vs Explicit Type Conversion"
   ]
  },
  {
   "cell_type": "code",
   "execution_count": null,
   "id": "1b135c49",
   "metadata": {},
   "outputs": [],
   "source": [
    "# Implicit conversion (Python does it automatically)\n",
    "num_int = 10\n",
    "num_float = 3.5\n",
    "result = num_int + num_float\n",
    "print(num_int, \"+\", num_float, \"=\", result)\n",
    "print(\"Type of result:\", type(result))\n",
    "\n",
    "# Explicit conversion (programmer does it deliberately)\n",
    "num_str = \"25\"\n",
    "converted_num = int(num_str)\n",
    "addition = converted_num + 10\n",
    "print(num_str, \"(converted to int) + 10 =\", addition)"
   ]
  },
  {
   "cell_type": "markdown",
   "id": "88f0f1a6",
   "metadata": {},
   "source": [
    "## Exercise 5: Mixed-Mode Arithmetic"
   ]
  },
  {
   "cell_type": "code",
   "execution_count": null,
   "id": "bc5db502",
   "metadata": {},
   "outputs": [],
   "source": [
    "# Integer and float combinations\n",
    "x = 2.14\n",
    "y = 2\n",
    "result1 = x ** y\n",
    "print(x, \"**\", y, \"=\", result1)\n",
    "print(\"Type of result:\", type(result1))\n",
    "\n",
    "# Division operators\n",
    "a = 3\n",
    "b = 2\n",
    "result2 = a / b  # Float division\n",
    "result3 = a // b  # Integer division\n",
    "print(a, \"/\", b, \"=\", result2, \"(type:\", type(result2), \")\")\n",
    "print(a, \"//\", b, \"=\", result3, \"(type:\", type(result3), \")\")"
   ]
  },
  {
   "cell_type": "markdown",
   "id": "b314c735",
   "metadata": {},
   "source": [
    "## Exercise 6: String Concatenation and Type Conversion"
   ]
  },
  {
   "cell_type": "code",
   "execution_count": null,
   "id": "0d0ee3ef",
   "metadata": {},
   "outputs": [],
   "source": [
    "# Type conversion for string concatenation\n",
    "prefix = \"1000.55\"\n",
    "# This would cause an error: total = prefix + 75\n",
    "# Because you can't concatenate a string and a number\n",
    "\n",
    "# Solution: convert to same type\n",
    "prefix = \"1000.55\"\n",
    "total = prefix + str(75)\n",
    "print(\"String concatenation:\", total)\n",
    "\n",
    "# Alternative: convert string to number\n",
    "prefix_num = float(prefix)\n",
    "total_sum = prefix_num + 75\n",
    "print(\"Numeric addition:\", total_sum)"
   ]
  },
  {
   "cell_type": "markdown",
   "id": "ebfbdcb3",
   "metadata": {},
   "source": [
    "## Exercise 7: Temperature Converter"
   ]
  },
  {
   "cell_type": "code",
   "execution_count": null,
   "id": "006ba318",
   "metadata": {},
   "outputs": [],
   "source": [
    "# Simple temperature converter without function or error handling\n",
    "temp_str = input(\"Enter a temperature value: \")\n",
    "unit = input(\"Is this (C)elsius or (F)ahrenheit? \").upper()\n",
    "\n",
    "temp = float(temp_str)  # Convert string to float\n",
    "\n",
    "if unit == 'C':\n",
    "    fahrenheit = (temp * 9/5) + 32\n",
    "    print(temp, \"°C is equal to\", fahrenheit, \"°F\")\n",
    "else:\n",
    "    # Assume user entered F if not C\n",
    "    celsius = (temp - 32) * 5/9\n",
    "    print(temp, \"°F is equal to\", celsius, \"°C\")"
   ]
  },
  {
   "cell_type": "markdown",
   "id": "58bdccf7",
   "metadata": {},
   "source": [
    "## Exercise 8: Checking Types with `type()`"
   ]
  },
  {
   "cell_type": "code",
   "execution_count": null,
   "id": "27fa97a7",
   "metadata": {},
   "outputs": [],
   "source": [
    "# Getting the type of values\n",
    "num = 42\n",
    "print(\"The number\", num, \"has type of\", type(num))\n",
    "\n",
    "floating = 3.14\n",
    "print(\"The number\", floating, \"has type of\", type(floating))\n",
    "\n",
    "text = \"Hello\"\n",
    "print(\"The string\", text, \"has type of\", type(text))\n",
    "\n",
    "is_valid = True\n",
    "print(\"The value\", is_valid, \"has type of\", type(is_valid))"
   ]
  },
  {
   "cell_type": "markdown",
   "id": "bc0c15d8",
   "metadata": {},
   "source": [
    "## Additional Exercises\n",
    "\n",
    "1. Create a program that asks the user for their birth year and calculates their age.\n",
    "2. Build a simple currency converter that converts USD to EUR using a fixed exchange rate.\n",
    "3. Create a program that calculates the average of three numbers entered by the user."
   ]
  }
 ],
 "metadata": {
  "kernelspec": {
   "display_name": "Python 3",
   "language": "python",
   "name": "python3"
  },
  "language_info": {
   "codemirror_mode": {
    "name": "ipython",
    "version": 3
   },
   "file_extension": ".py",
   "mimetype": "text/x-python",
   "name": "python",
   "nbconvert_exporter": "python",
   "pygments_lexer": "ipython3",
   "version": "3.9.18"
  }
 },
 "nbformat": 4,
 "nbformat_minor": 5
}
