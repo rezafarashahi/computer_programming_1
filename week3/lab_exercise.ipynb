{
 "cells": [
  {
   "cell_type": "markdown",
   "metadata": {},
   "source": [
    "# Practical Python Exercise: Shopping Cart Calculator\n",
    "\n",
    "## Introduction\n",
    "\n",
    "In this exercise, you'll create a shopping cart calculator that applies various discounts and taxes to items in a shopping cart. This will help you practice working with:\n",
    "\n",
    "- Type conversion between strings and numbers\n",
    "- Arithmetic operators and expressions\n",
    "- Comparison and logical operators\n",
    "- Mixed-mode arithmetic\n",
    "\n",
    "## Background\n",
    "\n",
    "Your online store needs to calculate the final price of items with the following rules:\n",
    "1. Items with prices over $50 get a 10% discount\n",
    "2. If the total order is over $100, apply an additional 5% discount\n",
    "3. Sales tax of 8.5% is applied after discounts\n",
    "\n",
    "Let's build this step by step!"
   ]
  },
  {
   "cell_type": "markdown",
   "metadata": {},
   "source": [
    "## Part 1: Item Price Input and Discount Calculation\n",
    "\n",
    "First, let's start with a program that takes a price input as a string and applies the 10% discount if applicable."
   ]
  },
  {
   "cell_type": "code",
   "execution_count": null,
   "metadata": {},
   "outputs": [],
   "source": [
    "# Example with type conversion\n",
    "price_str = input(\"Enter the item price ($): \")\n",
    "\n",
    "# Convert the string input to a float\n",
    "price = float(price_str)\n",
    "print(f\"Original price: ${price:.2f}\")\n",
    "\n",
    "# Apply 10% discount if price is over $50\n",
    "if price > 50:\n",
    "    discount = price * 0.10\n",
    "    discounted_price = price - discount\n",
    "    print(f\"10% discount applied: -${discount:.2f}\")\n",
    "    print(f\"Price after discount: ${discounted_price:.2f}\")\n",
    "else:\n",
    "    print(\"No discount applied.\")\n",
    "    discounted_price = price\n",
    "    \n",
    "print(f\"Final item price: ${discounted_price:.2f}\")"
   ]
  },
  {
   "cell_type": "markdown",
   "metadata": {},
   "source": [
    "## Part 2: Your Turn - Multiple Items and Total Calculation\n",
    "\n",
    "Now it's your turn! Write code that allows the user to enter multiple item prices and calculates:\n",
    "1. The subtotal before any discounts\n",
    "2. Individual item discounts (10% for items over $50)\n",
    "3. The total after individual item discounts\n",
    "\n",
    "**Requirements:**\n",
    "- Ask the user how many items they want to add\n",
    "- For each item, get its price as a string and convert to a float\n",
    "- Calculate and display individual item discounts\n",
    "- Calculate and display the subtotal and total after item discounts\n"
   ]
  },
  {
   "cell_type": "code",
   "execution_count": null,
   "metadata": {},
   "outputs": [],
   "source": [
    "# Write your code here for Part 2\n",
    "# Hint: You'll need a loop to process multiple items\n",
    "\n",
    "# YOUR CODE GOES HERE\n"
   ]
  },
  {
   "cell_type": "markdown",
   "metadata": {},
   "source": [
    "## Part 3: Your Turn - Bulk Order Discount and Tax Calculation\n",
    "\n",
    "Now, extend your code to apply the additional 5% discount if the total after item discounts exceeds $100, and then calculate the sales tax.\n",
    "\n",
    "**Requirements:**\n",
    "- Use the total after item discounts from Part 2\n",
    "- Apply a 5% additional discount if that total exceeds $100\n",
    "- Calculate the 8.5% sales tax on the total after all discounts\n",
    "- Display the subtotal, discounts, tax, and final total\n"
   ]
  },
  {
   "cell_type": "code",
   "execution_count": null,
   "metadata": {},
   "outputs": [],
   "source": [
    "# Start with the total from the previous part\n",
    "# You can assume total_after_item_discounts has been calculated\n",
    "\n",
    "# YOUR CODE GOES HERE\n"
   ]
  }
 ],
 "metadata": {
  "kernelspec": {
   "display_name": "Python 3",
   "language": "python",
   "name": "python3"
  },
  "language_info": {
   "codemirror_mode": {
    "name": "ipython",
    "version": 3
   },
   "file_extension": ".py",
   "mimetype": "text/x-python",
   "name": "python",
   "nbconvert_exporter": "python",
   "pygments_lexer": "ipython3",
   "version": "3.9.18"
  }
 },
 "nbformat": 4,
 "nbformat_minor": 4
}
