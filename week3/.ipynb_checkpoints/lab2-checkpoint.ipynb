{
 "cells": [
  {
   "cell_type": "markdown",
   "id": "54f91acb",
   "metadata": {},
   "source": [
    "# Python Expressions and Operators Lab\n",
    "\n",
    "## Introduction\n",
    "\n",
    "This lab explores the fundamental concepts of expressions and operators in Python, based on your Week 3 Session 1 materials. You'll learn about arithmetic, comparison, and logical operators, as well as type conversions in Python expressions.\n",
    "\n",
    "## Arithmetic Expressions and Operators\n",
    "\n",
    "In Python, arithmetic expressions consist of operands (values) and operators that perform mathematical operations. Python follows standard mathematical precedence rules:\n",
    "\n",
    "1. Parentheses `()` have highest precedence\n",
    "2. Exponentiation `**` is evaluated next\n",
    "3. Unary operations like negation `-`\n",
    "4. Multiplication `*`, division `/`, floor division `//`, and modulus `%`\n",
    "5. Addition `+` and subtraction `-`\n",
    "\n",
    "Let's explore basic arithmetic operators:"
   ]
  },
  {
   "cell_type": "code",
   "execution_count": null,
   "id": "b39cd8c8",
   "metadata": {},
   "outputs": [],
   "source": [
    "# Basic arithmetic operations\n",
    "print(\"Basic Arithmetic Operations:\")\n",
    "print(f\"Addition: 5 + 3 = {5 + 3}\")\n",
    "print(f\"Subtraction: 10 - 4 = {10 - 4}\")\n",
    "print(f\"Multiplication: 6 * 7 = {6 * 7}\")\n",
    "print(f\"Division: 20 / 4 = {20 / 4}\")  # Always returns a float\n",
    "print(f\"Floor Division: 20 // 3 = {20 // 3}\")  # Discards the fractional part\n",
    "print(f\"Modulus: 20 % 3 = {20 % 3}\")  # Returns remainder of division\n",
    "print(f\"Exponentiation: 2 ** 3 = {2 ** 3}\")  # 2 raised to the power of 3\n",
    "print(f\"Negation: -5 = {-5}\")"
   ]
  },
  {
   "cell_type": "markdown",
   "id": "829a720d",
   "metadata": {},
   "source": [
    "Python operator precedence determines the order in which operations are evaluated. You can use parentheses to override the default precedence."
   ]
  },
  {
   "cell_type": "code",
   "execution_count": null,
   "id": "18004b80",
   "metadata": {},
   "outputs": [],
   "source": [
    "# Operator precedence examples\n",
    "print(\"\\nOperator Precedence Examples:\")\n",
    "print(f\"2 + 3 * 4 = {2 + 3 * 4}\")  # Multiplication before addition\n",
    "print(f\"(2 + 3) * 4 = {(2 + 3) * 4}\")  # Parentheses change precedence\n",
    "print(f\"2 ** 3 + 4 = {2 ** 3 + 4}\")  # Exponentiation before addition\n",
    "print(f\"2 + 3 ** 2 = {2 + 3 ** 2}\")  # Exponentiation before addition\n",
    "\n",
    "# Multi-line expressions with backslash\n",
    "result = 3 + 4 + \\\n",
    "         5 + 6\n",
    "print(f\"\\nMulti-line expression result: {result}\")"
   ]
  },
  {
   "cell_type": "markdown",
   "id": "72df01f4",
   "metadata": {},
   "source": [
    "## Comparison Expressions and Operators\n",
    "\n",
    "Comparison operators compare values and return boolean results (True or False). They're essential for conditional logic and decision-making in programming.\n",
    "\n",
    "Python provides six comparison operators:\n",
    "- `<`: less than\n",
    "- `>`: greater than\n",
    "- `<=`: less than or equal to\n",
    "- `>=`: greater than or equal to\n",
    "- `==`: equal to\n",
    "- `!=`: not equal to"
   ]
  },
  {
   "cell_type": "code",
   "execution_count": null,
   "id": "29aded98",
   "metadata": {},
   "outputs": [],
   "source": [
    "# Comparison operators with numeric values\n",
    "x = 10\n",
    "y = 20\n",
    "print(f\"x = {x}, y = {y}\")\n",
    "print(f\"x < y: {x < y}\")\n",
    "print(f\"x > y: {x > y}\")\n",
    "print(f\"x <= y: {x <= y}\")\n",
    "print(f\"x >= y: {x >= y}\")\n",
    "print(f\"x == y: {x == y}\")\n",
    "print(f\"x != y: {x != y}\")"
   ]
  },
  {
   "cell_type": "markdown",
   "id": "e12c23d4",
   "metadata": {},
   "source": [
    "Python can also compare strings lexicographically (dictionary order). When comparing strings:\n",
    "- Comparison is case-sensitive ('a' > 'A')\n",
    "- Comparison is done character by character\n",
    "- Shorter strings are \"less than\" longer strings if all preceding characters are the same"
   ]
  },
  {
   "cell_type": "code",
   "execution_count": null,
   "id": "9303bc4f",
   "metadata": {},
   "outputs": [],
   "source": [
    "# String comparisons\n",
    "print(\"\\nString Comparisons:\")\n",
    "str1 = \"apple\"\n",
    "str2 = \"orange\"\n",
    "print(f\"str1 = '{str1}', str2 = '{str2}'\")\n",
    "print(f\"str1 < str2: {str1 < str2}\")  # Compares based on alphabetical order\n",
    "print(f\"str1 > str2: {str1 > str2}\")\n",
    "print(f\"'banana' < 'apple': {'banana' < 'apple'}\")\n",
    "\n",
    "# Demonstrating how string comparison works\n",
    "print(\"\\nDetailed String Comparison:\")\n",
    "print(f\"'a' < 'b': {'a' < 'b'}\")  # Alphabetical order\n",
    "print(f\"'apple' < 'apples': {'apple' < 'apples'}\")  # Shorter string is \"less than\"\n",
    "print(f\"'Apple' < 'apple': {'Apple' < 'apple'}\")  # Uppercase is \"less than\" lowercase"
   ]
  },
  {
   "cell_type": "markdown",
   "id": "345823ed",
   "metadata": {},
   "source": [
    "## Logical Expressions and Operators\n",
    "\n",
    "Logical operators combine boolean expressions and return boolean results. Python has three logical operators:\n",
    "- `and`: True if both operands are True\n",
    "- `or`: True if at least one operand is True\n",
    "- `not`: Inverts the truth value (True becomes False, False becomes True)"
   ]
  },
  {
   "cell_type": "code",
   "execution_count": null,
   "id": "1f6b4fb1",
   "metadata": {},
   "outputs": [],
   "source": [
    "# Logical operators with boolean values\n",
    "a = True\n",
    "b = False\n",
    "print(f\"a = {a}, b = {b}\")\n",
    "print(f\"a and b: {a and b}\")\n",
    "print(f\"a or b: {a or b}\")\n",
    "print(f\"not a: {not a}\")\n",
    "print(f\"not b: {not b}\")"
   ]
  },
  {
   "cell_type": "markdown",
   "id": "6710b7c4",
   "metadata": {},
   "source": [
    "The truth tables below show how logical operators behave with different combinations of inputs:\n",
    "\n",
    "### Truth Table for 'and'\n",
    "- True and True = True\n",
    "- True and False = False\n",
    "- False and True = False\n",
    "- False and False = False\n",
    "\n",
    "### Truth Table for 'or'\n",
    "- True or True = True\n",
    "- True or False = True\n",
    "- False or True = True\n",
    "- False or False = False"
   ]
  },
  {
   "cell_type": "code",
   "execution_count": null,
   "id": "1a5ee123",
   "metadata": {},
   "outputs": [],
   "source": [
    "# Truth table demonstrations\n",
    "print(\"\\nTruth Table for 'and' operator:\")\n",
    "print(f\"True and True: {True and True}\")\n",
    "print(f\"True and False: {True and False}\")\n",
    "print(f\"False and True: {False and True}\")\n",
    "print(f\"False and False: {False and False}\")\n",
    "\n",
    "print(\"\\nTruth Table for 'or' operator:\")\n",
    "print(f\"True or True: {True or True}\")\n",
    "print(f\"True or False: {True or False}\")\n",
    "print(f\"False or True: {False or True}\")\n",
    "print(f\"False or False: {False or False}\")"
   ]
  },
  {
   "cell_type": "markdown",
   "id": "ff8fe9d1",
   "metadata": {},
   "source": [
    "Logical operators have precedence order too:\n",
    "1. `not` has highest precedence\n",
    "2. `and` has medium precedence\n",
    "3. `or` has lowest precedence\n",
    "\n",
    "When combined in expressions, Python evaluates them in this order."
   ]
  },
  {
   "cell_type": "code",
   "execution_count": null,
   "id": "a36656ee",
   "metadata": {},
   "outputs": [],
   "source": [
    "# Logical operator precedence\n",
    "print(\"\\nLogical Operator Precedence:\")\n",
    "print(f\"True or False and False: {True or False and False}\")  # Evaluates as: True or (False and False)\n",
    "print(f\"(True or False) and False: {(True or False) and False}\")  # Parentheses change precedence\n",
    "print(f\"not True or False: {not True or False}\")  # Evaluates as: (not True) or False\n",
    "print(f\"not (True or False): {not (True or False)}\")"
   ]
  },
  {
   "cell_type": "markdown",
   "id": "9b446693",
   "metadata": {},
   "source": [
    "## Practical Examples with Logical and Comparison Operators\n",
    "\n",
    "Let's see how these operators work in practical scenarios:"
   ]
  },
  {
   "cell_type": "code",
   "execution_count": null,
   "id": "33b7d0c5",
   "metadata": {},
   "outputs": [],
   "source": [
    "# Price example from the slides\n",
    "price = 50\n",
    "print(f\"\\nExample with price = {price}\")\n",
    "print(f\"Is price > 30: {price > 30}\")\n",
    "print(f\"Is price < 20: {price < 20}\")\n",
    "print(f\"price > 20 and price < 100: {price > 20 and price < 100}\")\n",
    "print(f\"price < 30 or price > 60: {price < 30 or price > 60}\")\n",
    "print(f\"not (price < 30): {not (price < 30)}\")\n",
    "\n",
    "# Age and income eligibility example\n",
    "age = 25\n",
    "income = 45000\n",
    "has_license = True\n",
    "eligible = (age > 18 and income > 30000) and has_license\n",
    "print(f\"\\nPerson with age {age}, income ${income}, license {has_license}\")\n",
    "print(f\"Eligible for car loan? {eligible}\")"
   ]
  },
  {
   "cell_type": "markdown",
   "id": "79b16053",
   "metadata": {},
   "source": [
    "## Mixed-Mode Arithmetic and Type Conversions\n",
    "\n",
    "Python performs automatic type conversions in mixed-mode arithmetic operations:\n",
    "- When integer and float operands are combined, the result is a float\n",
    "- When different numeric types are used, Python converts to the more general type"
   ]
  },
  {
   "cell_type": "code",
   "execution_count": null,
   "id": "68087096",
   "metadata": {},
   "outputs": [],
   "source": [
    "# Mixed-mode arithmetic\n",
    "print(\"\\nMixed-Mode Arithmetic:\")\n",
    "print(f\"3 + 4.5 = {3 + 4.5}\")  # Integer + Float = Float\n",
    "print(f\"10 / 4 = {10 / 4}\")  # Division always returns float\n",
    "print(f\"10 // 4 = {10 // 4}\")  # Floor division with integers\n",
    "print(f\"10.0 // 4 = {10.0 // 4}\")  # Floor division with float\n",
    "print(f\"3 * 4.2 = {3 * 4.2}\")  # Integer * Float = Float\n",
    "\n",
    "# Example calculation\n",
    "print(\"\\nExample calculation:\")\n",
    "print(f\"2.1 * 4 ** 2 = {2.1 * 4 ** 2}\")  # 2.1 * 16 = 33.6"
   ]
  },
  {
   "cell_type": "markdown",
   "id": "980c5dc0",
   "metadata": {},
   "source": [
    "Python provides built-in functions for explicit type conversion:\n",
    "- `int()`: Converts to integer by truncation (not rounding)\n",
    "- `float()`: Converts to floating-point number\n",
    "- `str()`: Converts to string"
   ]
  },
  {
   "cell_type": "code",
   "execution_count": null,
   "id": "1a770901",
   "metadata": {},
   "outputs": [],
   "source": [
    "# Type conversion functions\n",
    "print(\"\\nType Conversion Functions:\")\n",
    "print(f\"int(4.7) = {int(4.7)}\")  # Truncates, does not round\n",
    "print(f\"int(-4.7) = {int(-4.7)}\")\n",
    "print(f\"float(5) = {float(5)}\")\n",
    "print(f\"int('25') = {int('25')}\")\n",
    "print(f\"str(99) = '{str(99)}'\")\n",
    "\n",
    "# String conversion and concatenation\n",
    "prefix = 1000.55\n",
    "print(f\"\\nprefix = {prefix}\")\n",
    "# print(\"$\" + prefix)  # This would raise TypeError without conversion\n",
    "print(\"Correct way: $\" + str(prefix))\n",
    "\n",
    "# Note the truncation behavior\n",
    "print(f\"\\nint(4.75) = {int(4.75)}\")\n",
    "print(f\"round(4.75) = {round(4.75)}\")  # For comparison"
   ]
  },
  {
   "cell_type": "markdown",
   "id": "d8b9a1ce",
   "metadata": {},
   "source": [
    "## Practice Exercises\n",
    "\n",
    "Now, let's apply what we've learned through some practical exercises:\n",
    "\n",
    "### Exercise 1: Temperature Conversion\n",
    "\n",
    "Convert a temperature from Celsius to Fahrenheit using the formula: F = (C × 9/5) + 32"
   ]
  },
  {
   "cell_type": "code",
   "execution_count": null,
   "id": "5a1b09d0",
   "metadata": {},
   "outputs": [],
   "source": [
    "# Temperature conversion (Celsius to Fahrenheit)\n",
    "celsius = 25\n",
    "fahrenheit = (celsius * 9/5) + 32\n",
    "print(f\"{celsius}°C = {fahrenheit}°F\")\n",
    "\n",
    "# Try with different values\n",
    "celsius_temp = 0\n",
    "fahrenheit_temp = (celsius_temp * 9/5) + 32\n",
    "print(f\"{celsius_temp}°C = {fahrenheit_temp}°F\")"
   ]
  },
  {
   "cell_type": "markdown",
   "id": "906c0df6",
   "metadata": {},
   "source": [
    "### Exercise 2: Calculating Discounts\n",
    "\n",
    "Calculate the final price after a discount is applied."
   ]
  },
  {
   "cell_type": "code",
   "execution_count": null,
   "id": "a355e581",
   "metadata": {},
   "outputs": [],
   "source": [
    "# Calculate discount and final price\n",
    "original_price = 100\n",
    "discount_percentage = 15\n",
    "\n",
    "# Calculate discount amount\n",
    "discount_amount = original_price * (discount_percentage / 100)\n",
    "\n",
    "# Calculate final price\n",
    "final_price = original_price - discount_amount\n",
    "\n",
    "print(f\"Original price: ${original_price}\")\n",
    "print(f\"Discount percentage: {discount_percentage}%\")\n",
    "print(f\"Discount amount: ${discount_amount}\")\n",
    "print(f\"Final price: ${final_price}\")"
   ]
  },
  {
   "cell_type": "markdown",
   "id": "fc83a179",
   "metadata": {},
   "source": [
    "### Exercise 3: Leap Year Determination\n",
    "\n",
    "A leap year is divisible by 4, but not by 100 unless it's also divisible by 400."
   ]
  },
  {
   "cell_type": "code",
   "execution_count": null,
   "id": "9c2e0595",
   "metadata": {},
   "outputs": [],
   "source": [
    "# Leap year determination\n",
    "year = 2024\n",
    "is_leap_year = (year % 4 == 0 and year % 100 != 0) or (year % 400 == 0)\n",
    "print(f\"Is {year} a leap year? {is_leap_year}\")\n",
    "\n",
    "# Try with different years\n",
    "years_to_check = [1900, 2000, 2020, 2023, 2024, 2100]\n",
    "for year in years_to_check:\n",
    "    is_leap = (year % 4 == 0 and year % 100 != 0) or (year % 400 == 0)\n",
    "    print(f\"Is {year} a leap year? {is_leap}\")"
   ]
  },
  {
   "cell_type": "markdown",
   "id": "7ef6a06e",
   "metadata": {},
   "source": [
    "### Exercise 4: Grade Classification\n",
    "\n",
    "Classify a student's grade based on their score."
   ]
  },
  {
   "cell_type": "code",
   "execution_count": null,
   "id": "75dcd900",
   "metadata": {},
   "outputs": [],
   "source": [
    "# Grade classification\n",
    "score = 85\n",
    "\n",
    "# Determine grade\n",
    "if score >= 90:\n",
    "    grade = \"A\"\n",
    "elif score >= 80:\n",
    "    grade = \"B\"\n",
    "elif score >= 70:\n",
    "    grade = \"C\"\n",
    "elif score >= 60:\n",
    "    grade = \"D\"\n",
    "else:\n",
    "    grade = \"F\"\n",
    "\n",
    "print(f\"Score: {score}\")\n",
    "print(f\"Grade: {grade}\")\n",
    "\n",
    "# Test different scores\n",
    "test_scores = [95, 85, 75, 65, 55]\n",
    "for score in test_scores:\n",
    "    if score >= 90:\n",
    "        grade = \"A\"\n",
    "    elif score >= 80:\n",
    "        grade = \"B\"\n",
    "    elif score >= 70:\n",
    "        grade = \"C\"\n",
    "    elif score >= 60:\n",
    "        grade = \"D\"\n",
    "    else:\n",
    "        grade = \"F\"\n",
    "    print(f\"Score: {score}, Grade: {grade}\")"
   ]
  },
  {
   "cell_type": "markdown",
   "id": "94c3f2c4",
   "metadata": {},
   "source": [
    "## Conclusion\n",
    "\n",
    "In this lab, we've explored:\n",
    "1. Arithmetic expressions and operators (+, -, *, /, //, %, **)\n",
    "2. Comparison operators (<, >, <=, >=, ==, !=)\n",
    "3. Logical operators (and, or, not)\n",
    "4. Type conversions between different data types\n",
    "5. Practical applications of these concepts"
   ]
  }
 ],
 "metadata": {},
 "nbformat": 4,
 "nbformat_minor": 5
}
